{
  "metadata": {
    "language_info": {
      "codemirror_mode": {
        "name": "python",
        "version": 3
      },
      "file_extension": ".py",
      "mimetype": "text/x-python",
      "name": "python",
      "nbconvert_exporter": "python",
      "pygments_lexer": "ipython3",
      "version": "3.8"
    },
    "kernelspec": {
      "name": "python",
      "display_name": "Pyolite",
      "language": "python"
    }
  },
  "nbformat_minor": 4,
  "nbformat": 4,
  "cells": [
    {
      "cell_type": "markdown",
      "source": "# Насыров Аскар Русланович ПИ-323\nВыполнил следующее задание:\n## Задание 2. IPYNB и GitHub\nЗадание 2. IPYNB и GitHub\n### Таблица греческих букв\nЗаглавная|Строчная|Название\n--|--|--\nA|$\\alpha$|Альфа\nB|$\\beta$|Бета\n$\\Gamma$|$\\gamma$|Гамма\n$\\Delta$|$\\delta$|Дельта\nE|$\\epsilon$ $\\varepsilon$|Эпсилон\nZ|$\\zeta$|Дзета\nH|$\\eta$|Эта\n$\\Theta$|$\\theta$ $\\vartheta$|Тета\nI|$\\iota$|Йота\nK|$\\kappa$|Каппа\n$\\Lambda$|$\\lambda$|Лямбда\nM|$\\mu$|Мю (ми)\nN|$\\nu$|Ню (ни)\n$\\Xi$|$\\xi$|Кси\nO|o|Омикрон\n$\\Pi$|$\\pi$ $\\varpi$|Пи\nP|$\\rho$ $\\varrho$|Ро\n$\\Sigma$|$\\sigma$ $\\varsigma$|Сигма\nT|$\\tau$|Тау\n$\\Upsilon$|$\\upsilon$|Ипсилон\n$\\Phi$|$\\phi$ $\\varphi$|Фи\nX|$\\chi$|Хи\n$\\Psi$|$\\psi$|Пси\n$\\Omega$|$\\omega$|Омега\n\n#### Формула нормального распределения в формате LaTeX\nФормула в тексте: ${\\displaystyle f(x)={\\frac {1}{\\sigma {\\sqrt {2\\pi }}}}en {-{\\frac {1}{2}}\\left({\\frac {x-\\mu }{\\sigma }}\\right) {2}}}$",
      "metadata": {}
    },
    {
      "cell_type": "markdown",
      "source": "",
      "metadata": {}
    }
  ]
}