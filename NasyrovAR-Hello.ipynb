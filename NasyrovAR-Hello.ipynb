{
 "cells": [
  {
   "cell_type": "markdown",
   "id": "1ccdcb0c-c406-4989-9377-46896ef3dc50",
   "metadata": {},
   "source": [
    "# Первая программа на суперкомпьютере"
   ]
  },
  {
   "cell_type": "code",
   "execution_count": 3,
   "id": "f42eb341-8206-4b11-899c-e8bfd98ac5fc",
   "metadata": {},
   "outputs": [
    {
     "name": "stdout",
     "output_type": "stream",
     "text": [
      "Hello world!\n"
     ]
    }
   ],
   "source": [
    "print (\"Hello world!\")"
   ]
  },
  {
   "cell_type": "code",
   "execution_count": 4,
   "id": "e20aa0f9-8c22-4249-9d49-5e86dd19f8f0",
   "metadata": {},
   "outputs": [
    {
     "name": "stdout",
     "output_type": "stream",
     "text": [
      "Выполнил Насыров А.Р.\n"
     ]
    }
   ],
   "source": [
    "print (\"Выполнил Насыров А.Р.\")"
   ]
  },
  {
   "cell_type": "code",
   "execution_count": null,
   "id": "06b7b60d-a7f3-4e2f-90e2-2cd5ff24d175",
   "metadata": {},
   "outputs": [],
   "source": []
  }
 ],
 "metadata": {
  "kernelspec": {
   "display_name": "Python 3 (ipykernel)",
   "language": "python",
   "name": "python3"
  },
  "language_info": {
   "codemirror_mode": {
    "name": "ipython",
    "version": 3
   },
   "file_extension": ".py",
   "mimetype": "text/x-python",
   "name": "python",
   "nbconvert_exporter": "python",
   "pygments_lexer": "ipython3",
   "version": "3.8.12"
  }
 },
 "nbformat": 4,
 "nbformat_minor": 5
}
